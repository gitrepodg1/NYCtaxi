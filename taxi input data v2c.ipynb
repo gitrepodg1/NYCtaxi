{
 "cells": [
  {
   "cell_type": "code",
   "execution_count": 2,
   "metadata": {},
   "outputs": [],
   "source": [
    "%matplotlib inline\n",
    "from matplotlib import pyplot as plt"
   ]
  },
  {
   "cell_type": "code",
   "execution_count": 3,
   "metadata": {},
   "outputs": [],
   "source": [
    "import pandas as pd\n",
    "import numpy as np"
   ]
  },
  {
   "cell_type": "code",
   "execution_count": 5,
   "metadata": {},
   "outputs": [
    {
     "name": "stderr",
     "output_type": "stream",
     "text": [
      "/Users/Delta/anaconda3/lib/python3.6/site-packages/IPython/core/interactiveshell.py:2785: DtypeWarning: Columns (4) have mixed types. Specify dtype option on import or set low_memory=False.\n",
      "  interactivity=interactivity, compiler=compiler, result=result)\n"
     ]
    }
   ],
   "source": [
    "#df = pd.read_csv('/Users/Delta/Downloads/trip_fare_4.csv',encoding='utf-8-sig')\n",
    "df = pd.read_csv('/Users/Delta/Downloads/trip_data_4.csv')\n",
    "#df = pd.read_csv('/Users/Delta/Downloads/trip_data_4.csv',nrows=200)   #skiprows=100\n",
    "#df = pd.read_csv('/Users/Delta/Downloads/trip_fare_4.csv',nrows=2,encoding='utf-8-sig')   #skiprows=100"
   ]
  },
  {
   "cell_type": "code",
   "execution_count": 6,
   "metadata": {},
   "outputs": [
    {
     "data": {
      "text/plain": [
       "(15100468, 14)"
      ]
     },
     "execution_count": 6,
     "metadata": {},
     "output_type": "execute_result"
    }
   ],
   "source": [
    "df.shape"
   ]
  },
  {
   "cell_type": "code",
   "execution_count": 7,
   "metadata": {},
   "outputs": [],
   "source": [
    "peek=df.head(5)"
   ]
  },
  {
   "cell_type": "code",
   "execution_count": 8,
   "metadata": {},
   "outputs": [
    {
     "data": {
      "text/html": [
       "<div>\n",
       "<style scoped>\n",
       "    .dataframe tbody tr th:only-of-type {\n",
       "        vertical-align: middle;\n",
       "    }\n",
       "\n",
       "    .dataframe tbody tr th {\n",
       "        vertical-align: top;\n",
       "    }\n",
       "\n",
       "    .dataframe thead th {\n",
       "        text-align: right;\n",
       "    }\n",
       "</style>\n",
       "<table border=\"1\" class=\"dataframe\">\n",
       "  <thead>\n",
       "    <tr style=\"text-align: right;\">\n",
       "      <th></th>\n",
       "      <th>medallion</th>\n",
       "      <th>hack_license</th>\n",
       "      <th>vendor_id</th>\n",
       "      <th>rate_code</th>\n",
       "      <th>store_and_fwd_flag</th>\n",
       "      <th>pickup_datetime</th>\n",
       "      <th>dropoff_datetime</th>\n",
       "      <th>passenger_count</th>\n",
       "      <th>trip_time_in_secs</th>\n",
       "      <th>trip_distance</th>\n",
       "      <th>pickup_longitude</th>\n",
       "      <th>pickup_latitude</th>\n",
       "      <th>dropoff_longitude</th>\n",
       "      <th>dropoff_latitude</th>\n",
       "    </tr>\n",
       "  </thead>\n",
       "  <tbody>\n",
       "    <tr>\n",
       "      <th>0</th>\n",
       "      <td>91F6EB84975BBC867E32CB113C7C2CD5</td>\n",
       "      <td>AD8751110E6292079EB10EB9481FE1A6</td>\n",
       "      <td>CMT</td>\n",
       "      <td>1</td>\n",
       "      <td>N</td>\n",
       "      <td>2013-04-04 18:47:45</td>\n",
       "      <td>2013-04-04 19:00:25</td>\n",
       "      <td>1</td>\n",
       "      <td>759</td>\n",
       "      <td>2.5</td>\n",
       "      <td>-73.957855</td>\n",
       "      <td>40.765320</td>\n",
       "      <td>-73.976273</td>\n",
       "      <td>40.785648</td>\n",
       "    </tr>\n",
       "    <tr>\n",
       "      <th>1</th>\n",
       "      <td>EC34CD1B3797DFAFF3FE099BA87B6656</td>\n",
       "      <td>8FE6A4AEDF89B6B4E19D2377FD3FB7D7</td>\n",
       "      <td>CMT</td>\n",
       "      <td>1</td>\n",
       "      <td>N</td>\n",
       "      <td>2013-04-05 07:08:34</td>\n",
       "      <td>2013-04-05 07:17:34</td>\n",
       "      <td>1</td>\n",
       "      <td>540</td>\n",
       "      <td>1.6</td>\n",
       "      <td>0.000000</td>\n",
       "      <td>0.000000</td>\n",
       "      <td>0.000000</td>\n",
       "      <td>0.000000</td>\n",
       "    </tr>\n",
       "    <tr>\n",
       "      <th>2</th>\n",
       "      <td>C1B9DA774DC2BBC6DE27CE994E7F44A0</td>\n",
       "      <td>E1B595FD55E4C82C1E213EB17438107A</td>\n",
       "      <td>CMT</td>\n",
       "      <td>1</td>\n",
       "      <td>N</td>\n",
       "      <td>2013-04-04 17:59:50</td>\n",
       "      <td>2013-04-04 18:21:48</td>\n",
       "      <td>1</td>\n",
       "      <td>1318</td>\n",
       "      <td>3.6</td>\n",
       "      <td>-73.982880</td>\n",
       "      <td>40.754990</td>\n",
       "      <td>-74.009186</td>\n",
       "      <td>40.715374</td>\n",
       "    </tr>\n",
       "    <tr>\n",
       "      <th>3</th>\n",
       "      <td>9BA84250355AB3FC031C9252D395BF8A</td>\n",
       "      <td>16BB0D96A0DCC853AEC7F55C8D6C71E0</td>\n",
       "      <td>CMT</td>\n",
       "      <td>1</td>\n",
       "      <td>N</td>\n",
       "      <td>2013-04-04 18:12:01</td>\n",
       "      <td>2013-04-04 18:25:24</td>\n",
       "      <td>1</td>\n",
       "      <td>799</td>\n",
       "      <td>1.9</td>\n",
       "      <td>-73.978119</td>\n",
       "      <td>40.763451</td>\n",
       "      <td>-73.955666</td>\n",
       "      <td>40.776642</td>\n",
       "    </tr>\n",
       "    <tr>\n",
       "      <th>4</th>\n",
       "      <td>205A696DF62AD03C88DA8C5EC5248639</td>\n",
       "      <td>579C41EA5EC846F8B641A42F9EE3E855</td>\n",
       "      <td>CMT</td>\n",
       "      <td>1</td>\n",
       "      <td>N</td>\n",
       "      <td>2013-04-04 20:12:57</td>\n",
       "      <td>2013-04-04 20:29:55</td>\n",
       "      <td>1</td>\n",
       "      <td>1017</td>\n",
       "      <td>3.6</td>\n",
       "      <td>-74.006371</td>\n",
       "      <td>40.744755</td>\n",
       "      <td>-73.961662</td>\n",
       "      <td>40.761082</td>\n",
       "    </tr>\n",
       "  </tbody>\n",
       "</table>\n",
       "</div>"
      ],
      "text/plain": [
       "                          medallion                      hack_license  \\\n",
       "0  91F6EB84975BBC867E32CB113C7C2CD5  AD8751110E6292079EB10EB9481FE1A6   \n",
       "1  EC34CD1B3797DFAFF3FE099BA87B6656  8FE6A4AEDF89B6B4E19D2377FD3FB7D7   \n",
       "2  C1B9DA774DC2BBC6DE27CE994E7F44A0  E1B595FD55E4C82C1E213EB17438107A   \n",
       "3  9BA84250355AB3FC031C9252D395BF8A  16BB0D96A0DCC853AEC7F55C8D6C71E0   \n",
       "4  205A696DF62AD03C88DA8C5EC5248639  579C41EA5EC846F8B641A42F9EE3E855   \n",
       "\n",
       "   vendor_id   rate_code  store_and_fwd_flag      pickup_datetime  \\\n",
       "0        CMT           1                   N  2013-04-04 18:47:45   \n",
       "1        CMT           1                   N  2013-04-05 07:08:34   \n",
       "2        CMT           1                   N  2013-04-04 17:59:50   \n",
       "3        CMT           1                   N  2013-04-04 18:12:01   \n",
       "4        CMT           1                   N  2013-04-04 20:12:57   \n",
       "\n",
       "      dropoff_datetime   passenger_count   trip_time_in_secs   trip_distance  \\\n",
       "0  2013-04-04 19:00:25                 1                 759             2.5   \n",
       "1  2013-04-05 07:17:34                 1                 540             1.6   \n",
       "2  2013-04-04 18:21:48                 1                1318             3.6   \n",
       "3  2013-04-04 18:25:24                 1                 799             1.9   \n",
       "4  2013-04-04 20:29:55                 1                1017             3.6   \n",
       "\n",
       "    pickup_longitude   pickup_latitude   dropoff_longitude   dropoff_latitude  \n",
       "0         -73.957855         40.765320          -73.976273          40.785648  \n",
       "1           0.000000          0.000000            0.000000           0.000000  \n",
       "2         -73.982880         40.754990          -74.009186          40.715374  \n",
       "3         -73.978119         40.763451          -73.955666          40.776642  \n",
       "4         -74.006371         40.744755          -73.961662          40.761082  "
      ]
     },
     "execution_count": 8,
     "metadata": {},
     "output_type": "execute_result"
    }
   ],
   "source": [
    "peek"
   ]
  },
  {
   "cell_type": "code",
   "execution_count": 9,
   "metadata": {},
   "outputs": [
    {
     "data": {
      "text/plain": [
       "medallion               object\n",
       " hack_license           object\n",
       " vendor_id              object\n",
       " rate_code               int64\n",
       " store_and_fwd_flag     object\n",
       " pickup_datetime        object\n",
       " dropoff_datetime       object\n",
       " passenger_count         int64\n",
       " trip_time_in_secs       int64\n",
       " trip_distance         float64\n",
       " pickup_longitude      float64\n",
       " pickup_latitude       float64\n",
       " dropoff_longitude     float64\n",
       " dropoff_latitude      float64\n",
       "dtype: object"
      ]
     },
     "execution_count": 9,
     "metadata": {},
     "output_type": "execute_result"
    }
   ],
   "source": [
    "df.dtypes"
   ]
  },
  {
   "cell_type": "code",
   "execution_count": 11,
   "metadata": {},
   "outputs": [
    {
     "data": {
      "text/plain": [
       "medallion                    0\n",
       " hack_license                0\n",
       " vendor_id                   0\n",
       " rate_code                   0\n",
       " store_and_fwd_flag    7518657\n",
       " pickup_datetime             0\n",
       " dropoff_datetime            0\n",
       " passenger_count             0\n",
       " trip_time_in_secs           0\n",
       " trip_distance               0\n",
       " pickup_longitude            0\n",
       " pickup_latitude             0\n",
       " dropoff_longitude         146\n",
       " dropoff_latitude          146\n",
       "dtype: int64"
      ]
     },
     "execution_count": 11,
     "metadata": {},
     "output_type": "execute_result"
    }
   ],
   "source": [
    "df.isnull().sum()"
   ]
  },
  {
   "cell_type": "code",
   "execution_count": 12,
   "metadata": {},
   "outputs": [
    {
     "data": {
      "text/plain": [
       "medallion                    0\n",
       " hack_license                0\n",
       " vendor_id                   0\n",
       " rate_code                   0\n",
       " store_and_fwd_flag    7518657\n",
       " pickup_datetime             0\n",
       " dropoff_datetime            0\n",
       " passenger_count             0\n",
       " trip_time_in_secs           0\n",
       " trip_distance               0\n",
       " pickup_longitude            0\n",
       " pickup_latitude             0\n",
       " dropoff_longitude         146\n",
       " dropoff_latitude          146\n",
       "dtype: int64"
      ]
     },
     "execution_count": 12,
     "metadata": {},
     "output_type": "execute_result"
    }
   ],
   "source": [
    "df.isna().sum()"
   ]
  },
  {
   "cell_type": "code",
   "execution_count": 43,
   "metadata": {},
   "outputs": [],
   "source": [
    "pickup_dt=pd.to_datetime(df[' pickup_datetime'])\n",
    "#pickup_dt=pd.Timestamp(df[' pickup_datetime'])"
   ]
  },
  {
   "cell_type": "code",
   "execution_count": 51,
   "metadata": {},
   "outputs": [
    {
     "data": {
      "text/plain": [
       "[0      18\n",
       " 1       7\n",
       " 2      17\n",
       " 3      18\n",
       " 4      20\n",
       " 5       2\n",
       " 6       6\n",
       " 7       6\n",
       " 8      19\n",
       " 9      18\n",
       " 10     18\n",
       " 11     18\n",
       " 12     18\n",
       " 13     19\n",
       " 14     19\n",
       " 15     14\n",
       " 16     14\n",
       " 17      7\n",
       " 18     20\n",
       " 19     20\n",
       " 20     18\n",
       " 21     18\n",
       " 22     19\n",
       " 23     19\n",
       " 24     19\n",
       " 25      0\n",
       " 26     18\n",
       " 27     18\n",
       " 28     18\n",
       " 29     20\n",
       "        ..\n",
       " 170    23\n",
       " 171    23\n",
       " 172    23\n",
       " 173    23\n",
       " 174    23\n",
       " 175    23\n",
       " 176    23\n",
       " 177    23\n",
       " 178    23\n",
       " 179    23\n",
       " 180    23\n",
       " 181    23\n",
       " 182    23\n",
       " 183    23\n",
       " 184    23\n",
       " 185    23\n",
       " 186    23\n",
       " 187    23\n",
       " 188    23\n",
       " 189    23\n",
       " 190    23\n",
       " 191    23\n",
       " 192    23\n",
       " 193    23\n",
       " 194    22\n",
       " 195    22\n",
       " 196    22\n",
       " 197    22\n",
       " 198     1\n",
       " 199     1\n",
       " Name:  pickup_datetime, Length: 200, dtype: int64, 0      47\n",
       " 1       8\n",
       " 2      59\n",
       " 3      12\n",
       " 4      12\n",
       " 5      48\n",
       " 6      16\n",
       " 7      20\n",
       " 8      20\n",
       " 9       5\n",
       " 10      4\n",
       " 11      7\n",
       " 12      2\n",
       " 13     19\n",
       " 14     12\n",
       " 15     42\n",
       " 16     56\n",
       " 17     23\n",
       " 18     17\n",
       " 19     22\n",
       " 20     40\n",
       " 21     42\n",
       " 22      5\n",
       " 23     24\n",
       " 24     30\n",
       " 25     15\n",
       " 26     38\n",
       " 27     51\n",
       " 28     12\n",
       " 29     20\n",
       "        ..\n",
       " 170    30\n",
       " 171    34\n",
       " 172    17\n",
       " 173    25\n",
       " 174     8\n",
       " 175    35\n",
       " 176    31\n",
       " 177    38\n",
       " 178    39\n",
       " 179    37\n",
       " 180    42\n",
       " 181    35\n",
       " 182    34\n",
       " 183    16\n",
       " 184    30\n",
       " 185    37\n",
       " 186    24\n",
       " 187    24\n",
       " 188    41\n",
       " 189    36\n",
       " 190    42\n",
       " 191    21\n",
       " 192    36\n",
       " 193    38\n",
       " 194     2\n",
       " 195     3\n",
       " 196     6\n",
       " 197    17\n",
       " 198     6\n",
       " 199    17\n",
       " Name:  pickup_datetime, Length: 200, dtype: int64]"
      ]
     },
     "execution_count": 51,
     "metadata": {},
     "output_type": "execute_result"
    }
   ],
   "source": [
    "#pickup_dt.astype('datetime64[s]')\n",
    "[pickup_dt.dt.hour, pickup_dt.dt.minute]"
   ]
  },
  {
   "cell_type": "code",
   "execution_count": 44,
   "metadata": {},
   "outputs": [
    {
     "ename": "AttributeError",
     "evalue": "'Series' object has no attribute 'hour'",
     "output_type": "error",
     "traceback": [
      "\u001b[0;31m---------------------------------------------------------------------------\u001b[0m",
      "\u001b[0;31mAttributeError\u001b[0m                            Traceback (most recent call last)",
      "\u001b[0;32m<ipython-input-44-767703301391>\u001b[0m in \u001b[0;36m<module>\u001b[0;34m()\u001b[0m\n\u001b[0;32m----> 1\u001b[0;31m \u001b[0mpickup_dt\u001b[0m\u001b[0;34m.\u001b[0m\u001b[0mhour\u001b[0m\u001b[0;34m(\u001b[0m\u001b[0;34m)\u001b[0m\u001b[0;34m\u001b[0m\u001b[0m\n\u001b[0m",
      "\u001b[0;32m~/anaconda3/lib/python3.6/site-packages/pandas/core/generic.py\u001b[0m in \u001b[0;36m__getattr__\u001b[0;34m(self, name)\u001b[0m\n\u001b[1;32m   4370\u001b[0m             \u001b[0;32mif\u001b[0m \u001b[0mself\u001b[0m\u001b[0;34m.\u001b[0m\u001b[0m_info_axis\u001b[0m\u001b[0;34m.\u001b[0m\u001b[0m_can_hold_identifiers_and_holds_name\u001b[0m\u001b[0;34m(\u001b[0m\u001b[0mname\u001b[0m\u001b[0;34m)\u001b[0m\u001b[0;34m:\u001b[0m\u001b[0;34m\u001b[0m\u001b[0m\n\u001b[1;32m   4371\u001b[0m                 \u001b[0;32mreturn\u001b[0m \u001b[0mself\u001b[0m\u001b[0;34m[\u001b[0m\u001b[0mname\u001b[0m\u001b[0;34m]\u001b[0m\u001b[0;34m\u001b[0m\u001b[0m\n\u001b[0;32m-> 4372\u001b[0;31m             \u001b[0;32mreturn\u001b[0m \u001b[0mobject\u001b[0m\u001b[0;34m.\u001b[0m\u001b[0m__getattribute__\u001b[0m\u001b[0;34m(\u001b[0m\u001b[0mself\u001b[0m\u001b[0;34m,\u001b[0m \u001b[0mname\u001b[0m\u001b[0;34m)\u001b[0m\u001b[0;34m\u001b[0m\u001b[0m\n\u001b[0m\u001b[1;32m   4373\u001b[0m \u001b[0;34m\u001b[0m\u001b[0m\n\u001b[1;32m   4374\u001b[0m     \u001b[0;32mdef\u001b[0m \u001b[0m__setattr__\u001b[0m\u001b[0;34m(\u001b[0m\u001b[0mself\u001b[0m\u001b[0;34m,\u001b[0m \u001b[0mname\u001b[0m\u001b[0;34m,\u001b[0m \u001b[0mvalue\u001b[0m\u001b[0;34m)\u001b[0m\u001b[0;34m:\u001b[0m\u001b[0;34m\u001b[0m\u001b[0m\n",
      "\u001b[0;31mAttributeError\u001b[0m: 'Series' object has no attribute 'hour'"
     ]
    }
   ],
   "source": [
    "pickup_dt.hour()"
   ]
  },
  {
   "cell_type": "code",
   "execution_count": 10,
   "metadata": {},
   "outputs": [
    {
     "data": {
      "text/html": [
       "<div>\n",
       "<style scoped>\n",
       "    .dataframe tbody tr th:only-of-type {\n",
       "        vertical-align: middle;\n",
       "    }\n",
       "\n",
       "    .dataframe tbody tr th {\n",
       "        vertical-align: top;\n",
       "    }\n",
       "\n",
       "    .dataframe thead th {\n",
       "        text-align: right;\n",
       "    }\n",
       "</style>\n",
       "<table border=\"1\" class=\"dataframe\">\n",
       "  <thead>\n",
       "    <tr style=\"text-align: right;\">\n",
       "      <th></th>\n",
       "      <th>rate_code</th>\n",
       "      <th>passenger_count</th>\n",
       "      <th>trip_time_in_secs</th>\n",
       "      <th>trip_distance</th>\n",
       "      <th>pickup_longitude</th>\n",
       "      <th>pickup_latitude</th>\n",
       "      <th>dropoff_longitude</th>\n",
       "      <th>dropoff_latitude</th>\n",
       "    </tr>\n",
       "  </thead>\n",
       "  <tbody>\n",
       "    <tr>\n",
       "      <th>count</th>\n",
       "      <td>1.510047e+07</td>\n",
       "      <td>1.510047e+07</td>\n",
       "      <td>1.510047e+07</td>\n",
       "      <td>1.510047e+07</td>\n",
       "      <td>1.510047e+07</td>\n",
       "      <td>1.510047e+07</td>\n",
       "      <td>1.510032e+07</td>\n",
       "      <td>1.510032e+07</td>\n",
       "    </tr>\n",
       "    <tr>\n",
       "      <th>mean</th>\n",
       "      <td>1.033242e+00</td>\n",
       "      <td>1.709030e+00</td>\n",
       "      <td>7.466081e+02</td>\n",
       "      <td>2.862899e+00</td>\n",
       "      <td>-7.273425e+01</td>\n",
       "      <td>4.006861e+01</td>\n",
       "      <td>-7.269257e+01</td>\n",
       "      <td>4.004795e+01</td>\n",
       "    </tr>\n",
       "    <tr>\n",
       "      <th>std</th>\n",
       "      <td>3.451167e-01</td>\n",
       "      <td>1.385621e+00</td>\n",
       "      <td>5.504414e+02</td>\n",
       "      <td>3.344187e+00</td>\n",
       "      <td>9.731627e+00</td>\n",
       "      <td>6.956628e+00</td>\n",
       "      <td>9.858587e+00</td>\n",
       "      <td>6.977638e+00</td>\n",
       "    </tr>\n",
       "    <tr>\n",
       "      <th>min</th>\n",
       "      <td>0.000000e+00</td>\n",
       "      <td>0.000000e+00</td>\n",
       "      <td>0.000000e+00</td>\n",
       "      <td>0.000000e+00</td>\n",
       "      <td>-2.323420e+03</td>\n",
       "      <td>-3.481141e+03</td>\n",
       "      <td>-2.771290e+03</td>\n",
       "      <td>-3.547898e+03</td>\n",
       "    </tr>\n",
       "    <tr>\n",
       "      <th>25%</th>\n",
       "      <td>1.000000e+00</td>\n",
       "      <td>1.000000e+00</td>\n",
       "      <td>3.600000e+02</td>\n",
       "      <td>1.040000e+00</td>\n",
       "      <td>-7.399213e+01</td>\n",
       "      <td>4.073512e+01</td>\n",
       "      <td>-7.399143e+01</td>\n",
       "      <td>4.073417e+01</td>\n",
       "    </tr>\n",
       "    <tr>\n",
       "      <th>50%</th>\n",
       "      <td>1.000000e+00</td>\n",
       "      <td>1.000000e+00</td>\n",
       "      <td>6.000000e+02</td>\n",
       "      <td>1.780000e+00</td>\n",
       "      <td>-7.398172e+01</td>\n",
       "      <td>4.075281e+01</td>\n",
       "      <td>-7.398007e+01</td>\n",
       "      <td>4.075333e+01</td>\n",
       "    </tr>\n",
       "    <tr>\n",
       "      <th>75%</th>\n",
       "      <td>1.000000e+00</td>\n",
       "      <td>2.000000e+00</td>\n",
       "      <td>9.600000e+02</td>\n",
       "      <td>3.200000e+00</td>\n",
       "      <td>-7.396676e+01</td>\n",
       "      <td>4.076754e+01</td>\n",
       "      <td>-7.396362e+01</td>\n",
       "      <td>4.076832e+01</td>\n",
       "    </tr>\n",
       "    <tr>\n",
       "      <th>max</th>\n",
       "      <td>2.100000e+02</td>\n",
       "      <td>9.000000e+00</td>\n",
       "      <td>1.080000e+04</td>\n",
       "      <td>1.000000e+02</td>\n",
       "      <td>2.228722e+03</td>\n",
       "      <td>3.210393e+03</td>\n",
       "      <td>2.228746e+03</td>\n",
       "      <td>3.577126e+03</td>\n",
       "    </tr>\n",
       "  </tbody>\n",
       "</table>\n",
       "</div>"
      ],
      "text/plain": [
       "          rate_code   passenger_count   trip_time_in_secs   trip_distance  \\\n",
       "count  1.510047e+07      1.510047e+07        1.510047e+07    1.510047e+07   \n",
       "mean   1.033242e+00      1.709030e+00        7.466081e+02    2.862899e+00   \n",
       "std    3.451167e-01      1.385621e+00        5.504414e+02    3.344187e+00   \n",
       "min    0.000000e+00      0.000000e+00        0.000000e+00    0.000000e+00   \n",
       "25%    1.000000e+00      1.000000e+00        3.600000e+02    1.040000e+00   \n",
       "50%    1.000000e+00      1.000000e+00        6.000000e+02    1.780000e+00   \n",
       "75%    1.000000e+00      2.000000e+00        9.600000e+02    3.200000e+00   \n",
       "max    2.100000e+02      9.000000e+00        1.080000e+04    1.000000e+02   \n",
       "\n",
       "        pickup_longitude   pickup_latitude   dropoff_longitude  \\\n",
       "count       1.510047e+07      1.510047e+07        1.510032e+07   \n",
       "mean       -7.273425e+01      4.006861e+01       -7.269257e+01   \n",
       "std         9.731627e+00      6.956628e+00        9.858587e+00   \n",
       "min        -2.323420e+03     -3.481141e+03       -2.771290e+03   \n",
       "25%        -7.399213e+01      4.073512e+01       -7.399143e+01   \n",
       "50%        -7.398172e+01      4.075281e+01       -7.398007e+01   \n",
       "75%        -7.396676e+01      4.076754e+01       -7.396362e+01   \n",
       "max         2.228722e+03      3.210393e+03        2.228746e+03   \n",
       "\n",
       "        dropoff_latitude  \n",
       "count       1.510032e+07  \n",
       "mean        4.004795e+01  \n",
       "std         6.977638e+00  \n",
       "min        -3.547898e+03  \n",
       "25%         4.073417e+01  \n",
       "50%         4.075333e+01  \n",
       "75%         4.076832e+01  \n",
       "max         3.577126e+03  "
      ]
     },
     "execution_count": 10,
     "metadata": {},
     "output_type": "execute_result"
    }
   ],
   "source": [
    "df.describe()"
   ]
  },
  {
   "cell_type": "code",
   "execution_count": 13,
   "metadata": {},
   "outputs": [
    {
     "data": {
      "text/plain": [
       "Index(['medallion', ' hack_license', ' vendor_id', ' rate_code',\n",
       "       ' store_and_fwd_flag', ' pickup_datetime', ' dropoff_datetime',\n",
       "       ' passenger_count', ' trip_time_in_secs', ' trip_distance',\n",
       "       ' pickup_longitude', ' pickup_latitude', ' dropoff_longitude',\n",
       "       ' dropoff_latitude'],\n",
       "      dtype='object')"
      ]
     },
     "execution_count": 13,
     "metadata": {},
     "output_type": "execute_result"
    }
   ],
   "source": [
    "df.columns"
   ]
  },
  {
   "cell_type": "code",
   "execution_count": 10,
   "metadata": {},
   "outputs": [],
   "source": [
    "#payment_type = df.groupby(' payment_type').count()"
   ]
  },
  {
   "cell_type": "code",
   "execution_count": 11,
   "metadata": {},
   "outputs": [],
   "source": [
    "#payment_type"
   ]
  },
  {
   "cell_type": "code",
   "execution_count": 12,
   "metadata": {},
   "outputs": [],
   "source": [
    "#df[' payment_type'].hist()"
   ]
  },
  {
   "cell_type": "code",
   "execution_count": 13,
   "metadata": {},
   "outputs": [],
   "source": [
    "#pyplot.show()"
   ]
  },
  {
   "cell_type": "code",
   "execution_count": 14,
   "metadata": {},
   "outputs": [
    {
     "data": {
      "text/plain": [
       "array([1, 2, 3, 4, 5, 6, 0, 9, 8])"
      ]
     },
     "execution_count": 14,
     "metadata": {},
     "output_type": "execute_result"
    }
   ],
   "source": [
    "df[' passenger_count'].unique()"
   ]
  },
  {
   "cell_type": "code",
   "execution_count": 15,
   "metadata": {},
   "outputs": [],
   "source": [
    "#df[' payment_type'].value_counts()"
   ]
  },
  {
   "cell_type": "code",
   "execution_count": 17,
   "metadata": {},
   "outputs": [],
   "source": [
    "passengercount=df[' passenger_count'].value_counts()"
   ]
  },
  {
   "cell_type": "code",
   "execution_count": 18,
   "metadata": {},
   "outputs": [
    {
     "data": {
      "text/plain": [
       "1    10707072\n",
       "2     1985742\n",
       "5      890115\n",
       "3      609849\n",
       "6      609313\n",
       "4      298146\n",
       "0         229\n",
       "9           1\n",
       "8           1\n",
       "Name:  passenger_count, dtype: int64"
      ]
     },
     "execution_count": 18,
     "metadata": {},
     "output_type": "execute_result"
    }
   ],
   "source": [
    "passengercount"
   ]
  },
  {
   "cell_type": "code",
   "execution_count": 19,
   "metadata": {},
   "outputs": [
    {
     "data": {
      "text/plain": [
       "Text(0.5,1,'Count of passenger_count')"
      ]
     },
     "execution_count": 19,
     "metadata": {},
     "output_type": "execute_result"
    },
    {
     "data": {
      "image/png": "[encoded data removed]",
      "text/plain": [
       "<Figure size 432x288 with 1 Axes>"
      ]
     },
     "metadata": {},
     "output_type": "display_data"
    }
   ],
   "source": [
    "passengercount.plot(kind='bar')   #paytype.hist()\n",
    "plt.xlabel('passenger_count')\n",
    "plt.ylabel('Occurrences')\n",
    "plt.title('Count of passenger_count',size='x-large')"
   ]
  },
  {
   "cell_type": "code",
   "execution_count": 20,
   "metadata": {},
   "outputs": [],
   "source": [
    "vendorid=df[' vendor_id'].value_counts()"
   ]
  },
  {
   "cell_type": "code",
   "execution_count": 21,
   "metadata": {},
   "outputs": [
    {
     "data": {
      "text/plain": [
       "CMT    7582525\n",
       "VTS    7517943\n",
       "Name:  vendor_id, dtype: int64"
      ]
     },
     "execution_count": 21,
     "metadata": {},
     "output_type": "execute_result"
    }
   ],
   "source": [
    "vendorid"
   ]
  },
  {
   "cell_type": "code",
   "execution_count": 23,
   "metadata": {},
   "outputs": [],
   "source": [
    "ratecode=df[' rate_code'].value_counts()"
   ]
  },
  {
   "cell_type": "code",
   "execution_count": 24,
   "metadata": {},
   "outputs": [
    {
     "data": {
      "text/plain": [
       "1      14768828\n",
       "2        254687\n",
       "5         39118\n",
       "3         21937\n",
       "4         14566\n",
       "0          1145\n",
       "6           164\n",
       "210          14\n",
       "65            2\n",
       "8             2\n",
       "208           1\n",
       "206           1\n",
       "77            1\n",
       "9             1\n",
       "7             1\n",
       "Name:  rate_code, dtype: int64"
      ]
     },
     "execution_count": 24,
     "metadata": {},
     "output_type": "execute_result"
    }
   ],
   "source": [
    "ratecode"
   ]
  },
  {
   "cell_type": "code",
   "execution_count": 25,
   "metadata": {},
   "outputs": [],
   "source": [
    "storefwdflag=df[' store_and_fwd_flag'].value_counts()"
   ]
  },
  {
   "cell_type": "code",
   "execution_count": 26,
   "metadata": {},
   "outputs": [
    {
     "data": {
      "text/plain": [
       "N    7451841\n",
       "Y     129970\n",
       "Name:  store_and_fwd_flag, dtype: int64"
      ]
     },
     "execution_count": 26,
     "metadata": {},
     "output_type": "execute_result"
    }
   ],
   "source": [
    "storefwdflag"
   ]
  },
  {
   "cell_type": "code",
   "execution_count": 35,
   "metadata": {},
   "outputs": [
    {
     "data": {
      "text/plain": [
       "<matplotlib.axes._subplots.AxesSubplot at 0x118c4ff60>"
      ]
     },
     "execution_count": 35,
     "metadata": {},
     "output_type": "execute_result"
    },
    {
     "data": {
      "image/png": "[encoded data removed]",
      "text/plain": [
       "<Figure size 432x288 with 1 Axes>"
      ]
     },
     "metadata": {},
     "output_type": "display_data"
    }
   ],
   "source": [
    "df[' fare_amount'].hist(bins=50)"
   ]
  },
  {
   "cell_type": "code",
   "execution_count": 34,
   "metadata": {},
   "outputs": [
    {
     "data": {
      "text/plain": [
       "<matplotlib.axes._subplots.AxesSubplot at 0x118b661d0>"
      ]
     },
     "execution_count": 34,
     "metadata": {},
     "output_type": "execute_result"
    },
    {
     "data": {
      "image/png": "[encoded data removed]",
      "text/plain": [
       "<Figure size 432x288 with 1 Axes>"
      ]
     },
     "metadata": {},
     "output_type": "display_data"
    }
   ],
   "source": [
    "df[' tip_amount'].hist(bins=50)"
   ]
  },
  {
   "cell_type": "code",
   "execution_count": 31,
   "metadata": {},
   "outputs": [
    {
     "data": {
      "text/plain": [
       "<matplotlib.axes._subplots.AxesSubplot at 0x11882ba90>"
      ]
     },
     "execution_count": 31,
     "metadata": {},
     "output_type": "execute_result"
    },
    {
     "data": {
      "image/png": "[encoded data removed]",
      "text/plain": [
       "<Figure size 432x288 with 1 Axes>"
      ]
     },
     "metadata": {},
     "output_type": "display_data"
    }
   ],
   "source": [
    "df[' total_amount'].hist(bins=50)"
   ]
  },
  {
   "cell_type": "code",
   "execution_count": null,
   "metadata": {},
   "outputs": [],
   "source": [
    "dff"
   ]
  },
  {
   "cell_type": "code",
   "execution_count": null,
   "metadata": {},
   "outputs": [],
   "source": [
    "df.isnull().sum()"
   ]
  },
  {
   "cell_type": "code",
   "execution_count": null,
   "metadata": {},
   "outputs": [],
   "source": [
    "#df['payment_type'].isnull().sum()\n",
    "df['payment_type'].isna().sum()"
   ]
  },
  {
   "cell_type": "code",
   "execution_count": null,
   "metadata": {},
   "outputs": [],
   "source": [
    "newdf = df[df.columns[4:5]]"
   ]
  },
  {
   "cell_type": "code",
   "execution_count": null,
   "metadata": {},
   "outputs": [],
   "source": [
    "newdf"
   ]
  },
  {
   "cell_type": "code",
   "execution_count": null,
   "metadata": {
    "scrolled": true
   },
   "outputs": [],
   "source": [
    "newdf['payment_type'].unique()"
   ]
  },
  {
   "cell_type": "code",
   "execution_count": null,
   "metadata": {},
   "outputs": [],
   "source": [
    "np.unique(newdf,return_counts=True)"
   ]
  },
  {
   "cell_type": "code",
   "execution_count": null,
   "metadata": {},
   "outputs": [],
   "source": [
    "np.unique(df['payment_type'])"
   ]
  },
  {
   "cell_type": "code",
   "execution_count": null,
   "metadata": {},
   "outputs": [],
   "source": [
    "df.columns"
   ]
  },
  {
   "cell_type": "code",
   "execution_count": null,
   "metadata": {},
   "outputs": [],
   "source": [
    "#df.rename(columns={})"
   ]
  }
 ],
 "metadata": {
  "kernelspec": {
   "display_name": "Python 3",
   "language": "python",
   "name": "python3"
  },
  "language_info": {
   "codemirror_mode": {
    "name": "ipython",
    "version": 3
   },
   "file_extension": ".py",
   "mimetype": "text/x-python",
   "name": "python",
   "nbconvert_exporter": "python",
   "pygments_lexer": "ipython3",
   "version": "3.6.5"
  }
 },
 "nbformat": 4,
 "nbformat_minor": 2
}
